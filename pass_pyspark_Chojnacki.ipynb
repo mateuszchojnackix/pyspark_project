{
  "cells": [
    {
      "cell_type": "markdown",
      "source": [
        "Zaliczenie\n",
        "\n",
        "Chojnacki Mateusz\n",
        "\n",
        "Preferowane jest otworzenie zaliczania w Google Colab ponieważ w notatniku Jupyter występowały błędy."
      ],
      "metadata": {
        "id": "aMvdbFQD_Yve"
      },
      "id": "aMvdbFQD_Yve"
    },
    {
      "cell_type": "markdown",
      "metadata": {
        "id": "0faa9187"
      },
      "source": [
        "**Zaliczenie części Wprowadzenie do Sparka**"
      ],
      "id": "0faa9187"
    },
    {
      "cell_type": "markdown",
      "metadata": {
        "id": "f2b6ed2e"
      },
      "source": [
        "Zbior danych to oceny filmow. Dane pochodza z projektu https://movielens.org/\n",
        "Wiecej informacji o danych mozna znalezc pod adresem: http://files.grouplens.org/datasets/movielens/ml-latest-small-README.html"
      ],
      "id": "f2b6ed2e"
    },
    {
      "cell_type": "code",
      "execution_count": 68,
      "metadata": {
        "colab": {
          "base_uri": "https://localhost:8080/"
        },
        "id": "ct7PUXNKv8w-",
        "outputId": "e5673551-8837-4461-ae24-ca232b755c04"
      },
      "outputs": [
        {
          "output_type": "stream",
          "name": "stdout",
          "text": [
            "Looking in indexes: https://pypi.org/simple, https://us-python.pkg.dev/colab-wheels/public/simple/\n",
            "Requirement already satisfied: pyspark in /usr/local/lib/python3.7/dist-packages (3.3.1)\n",
            "Requirement already satisfied: py4j==0.10.9.5 in /usr/local/lib/python3.7/dist-packages (from pyspark) (0.10.9.5)\n"
          ]
        }
      ],
      "source": [
        "pip install pyspark"
      ],
      "id": "ct7PUXNKv8w-"
    },
    {
      "cell_type": "code",
      "execution_count": 69,
      "metadata": {
        "colab": {
          "base_uri": "https://localhost:8080/"
        },
        "id": "HMgBz8VujJ_F",
        "outputId": "89e888d4-318a-4943-92ab-acda94da6e1e"
      },
      "outputs": [
        {
          "output_type": "stream",
          "name": "stdout",
          "text": [
            "Looking in indexes: https://pypi.org/simple, https://us-python.pkg.dev/colab-wheels/public/simple/\n",
            "Requirement already satisfied: pyspark_dist_explore in /usr/local/lib/python3.7/dist-packages (0.1.8)\n",
            "Requirement already satisfied: numpy in /usr/local/lib/python3.7/dist-packages (from pyspark_dist_explore) (1.21.6)\n",
            "Requirement already satisfied: scipy in /usr/local/lib/python3.7/dist-packages (from pyspark_dist_explore) (1.7.3)\n",
            "Requirement already satisfied: pandas in /usr/local/lib/python3.7/dist-packages (from pyspark_dist_explore) (1.3.5)\n",
            "Requirement already satisfied: matplotlib in /usr/local/lib/python3.7/dist-packages (from pyspark_dist_explore) (3.2.2)\n",
            "Requirement already satisfied: kiwisolver>=1.0.1 in /usr/local/lib/python3.7/dist-packages (from matplotlib->pyspark_dist_explore) (1.4.4)\n",
            "Requirement already satisfied: python-dateutil>=2.1 in /usr/local/lib/python3.7/dist-packages (from matplotlib->pyspark_dist_explore) (2.8.2)\n",
            "Requirement already satisfied: cycler>=0.10 in /usr/local/lib/python3.7/dist-packages (from matplotlib->pyspark_dist_explore) (0.11.0)\n",
            "Requirement already satisfied: pyparsing!=2.0.4,!=2.1.2,!=2.1.6,>=2.0.1 in /usr/local/lib/python3.7/dist-packages (from matplotlib->pyspark_dist_explore) (3.0.9)\n",
            "Requirement already satisfied: typing-extensions in /usr/local/lib/python3.7/dist-packages (from kiwisolver>=1.0.1->matplotlib->pyspark_dist_explore) (4.1.1)\n",
            "Requirement already satisfied: six>=1.5 in /usr/local/lib/python3.7/dist-packages (from python-dateutil>=2.1->matplotlib->pyspark_dist_explore) (1.15.0)\n",
            "Requirement already satisfied: pytz>=2017.3 in /usr/local/lib/python3.7/dist-packages (from pandas->pyspark_dist_explore) (2022.6)\n"
          ]
        }
      ],
      "source": [
        "pip install pyspark_dist_explore"
      ],
      "id": "HMgBz8VujJ_F"
    },
    {
      "cell_type": "code",
      "execution_count": 70,
      "metadata": {
        "colab": {
          "base_uri": "https://localhost:8080/"
        },
        "id": "inc-yghXrQRk",
        "outputId": "fb4ddf68-2f29-4d6b-acf5-5dae96b86bfc"
      },
      "outputs": [
        {
          "output_type": "stream",
          "name": "stdout",
          "text": [
            "Looking in indexes: https://pypi.org/simple, https://us-python.pkg.dev/colab-wheels/public/simple/\n",
            "Requirement already satisfied: matplotlib in /usr/local/lib/python3.7/dist-packages (3.2.2)\n",
            "Requirement already satisfied: kiwisolver>=1.0.1 in /usr/local/lib/python3.7/dist-packages (from matplotlib) (1.4.4)\n",
            "Requirement already satisfied: cycler>=0.10 in /usr/local/lib/python3.7/dist-packages (from matplotlib) (0.11.0)\n",
            "Requirement already satisfied: pyparsing!=2.0.4,!=2.1.2,!=2.1.6,>=2.0.1 in /usr/local/lib/python3.7/dist-packages (from matplotlib) (3.0.9)\n",
            "Requirement already satisfied: numpy>=1.11 in /usr/local/lib/python3.7/dist-packages (from matplotlib) (1.21.6)\n",
            "Requirement already satisfied: python-dateutil>=2.1 in /usr/local/lib/python3.7/dist-packages (from matplotlib) (2.8.2)\n",
            "Requirement already satisfied: typing-extensions in /usr/local/lib/python3.7/dist-packages (from kiwisolver>=1.0.1->matplotlib) (4.1.1)\n",
            "Requirement already satisfied: six>=1.5 in /usr/local/lib/python3.7/dist-packages (from python-dateutil>=2.1->matplotlib) (1.15.0)\n"
          ]
        }
      ],
      "source": [
        "pip install matplotlib"
      ],
      "id": "inc-yghXrQRk"
    },
    {
      "cell_type": "code",
      "execution_count": 71,
      "metadata": {
        "id": "T4IwCc1_53q_"
      },
      "outputs": [],
      "source": [
        "from pyspark.sql import functions as f"
      ],
      "id": "T4IwCc1_53q_"
    },
    {
      "cell_type": "code",
      "execution_count": 72,
      "metadata": {
        "id": "2b2be38c"
      },
      "outputs": [],
      "source": [
        "from pyspark.sql import SparkSession\n",
        "spark = SparkSession.builder.appName('DataFrame_add').master('local[*]').getOrCreate()\n",
        "\n",
        "data_path = '/'"
      ],
      "id": "2b2be38c"
    },
    {
      "cell_type": "markdown",
      "metadata": {
        "id": "620da2a8"
      },
      "source": [
        "Do rozważenia: Zalecanym formatem przechowywania danych jest Apache Parquet.\n",
        "Wiecej o tym formacie danych mozna sie dowiedziec np. tutaj: https://parquet.apache.org/.\n",
        "W skrocie, tak strona projektu podsumowuje misje stojaca za tym formatem:\n",
        "\"We created Parquet to make the advantages of compressed, efficient columnar data representation available to any project in the Hadoop ecosystem\"."
      ],
      "id": "620da2a8"
    },
    {
      "cell_type": "markdown",
      "metadata": {
        "id": "3a873c49"
      },
      "source": [
        "Przyjrzyj sie danym i przeanalizuj. \n",
        "\n",
        "Sugestie:\n",
        "1. Z jakich kolumn skladaja sie wczytane powyzej zbiory?\n",
        "2. Informacje o ilu filmach znajduja sie w dostarczonym zbiorze?\n",
        "3. Oceny ilu uzytkownikow znajduja sie w zbiorze?\n",
        "4. Czy w zbiorze znajduja sie braki danych?\n",
        "5. Ile filmow nie ma ocen? Ktore filmy nie maja ocen?\n",
        "6. Ktory film ma najlepsza srednia ocen? Jesli jest takich wiele podaj ten z najwieksza liczba glosow.\n",
        "7. Jaki procent filmow ma tylko maksymalne oceny?\n",
        "8. Ktory film na najwyzsza minimalna ocene? Jesli jest takich wiele podaj ten z najwieksza liczba glosow.\n",
        "9. Jaki jest rozklad ocen?\n",
        "10. Ile jest filmow zaklasyfikowanych jako dokumentalne 'documentary'?\n",
        "11. Ktory z filmow dokumentalnych z conajmniej 10 glosami ma najwysza srednia ocene?\n",
        "12. Jakie sa roznice pomiedzy liczba filmow w zbiorze z roku na rok? Zaloz, ze timestamp reprezentuje liczbe sekund od roku 1960.\n",
        "13. Ile srednio kategorii przypisanych jest do 1 filmu? Ktory film ma najwiecej kategorii (+co to za kategorie)?"
      ],
      "id": "3a873c49"
    },
    {
      "cell_type": "code",
      "execution_count": 73,
      "metadata": {
        "id": "rOYCo8imxetF"
      },
      "outputs": [],
      "source": [
        "# Wczytywanie danych\n",
        "links = spark.read.option(\"header\",\"true\").csv(\"links.csv\")\n",
        "movies = spark.read.option(\"header\",\"true\").csv(\"movies.csv\")\n",
        "ratings = spark.read.option(\"header\",\"true\").csv(\"ratings.csv\")\n",
        "tags = spark.read.option(\"header\",\"true\").csv(\"tags.csv\")"
      ],
      "id": "rOYCo8imxetF"
    },
    {
      "cell_type": "code",
      "execution_count": 74,
      "metadata": {
        "colab": {
          "base_uri": "https://localhost:8080/"
        },
        "id": "f96a3871",
        "outputId": "f12fca74-9cb5-467a-ca7b-4c5d94e9f490"
      },
      "outputs": [
        {
          "output_type": "stream",
          "name": "stdout",
          "text": [
            "Kolumny dla links\n",
            "root\n",
            " |-- movieId: string (nullable = true)\n",
            " |-- imdbId: string (nullable = true)\n",
            " |-- tmdbId: string (nullable = true)\n",
            "\n",
            "Kolumny dla movies\n",
            "root\n",
            " |-- movieId: string (nullable = true)\n",
            " |-- title: string (nullable = true)\n",
            " |-- genres: string (nullable = true)\n",
            "\n",
            "Kolumny dla ratings\n",
            "root\n",
            " |-- userId: string (nullable = true)\n",
            " |-- movieId: string (nullable = true)\n",
            " |-- rating: string (nullable = true)\n",
            " |-- timestamp: string (nullable = true)\n",
            "\n",
            "Kolumny dla tags\n",
            "root\n",
            " |-- userId: string (nullable = true)\n",
            " |-- movieId: string (nullable = true)\n",
            " |-- tag: string (nullable = true)\n",
            " |-- timestamp: string (nullable = true)\n",
            "\n"
          ]
        }
      ],
      "source": [
        "# Zadanie 1\n",
        "# Z jakich kolumn skladaja sie wczytane powyzej zbiory?\n",
        "\n",
        "print('Kolumny dla links')\n",
        "links.printSchema()\n",
        "print('Kolumny dla movies')\n",
        "movies.printSchema()\n",
        "print('Kolumny dla ratings')\n",
        "ratings.printSchema()\n",
        "print('Kolumny dla tags')\n",
        "tags.printSchema()"
      ],
      "id": "f96a3871"
    },
    {
      "cell_type": "code",
      "execution_count": 75,
      "metadata": {
        "colab": {
          "base_uri": "https://localhost:8080/"
        },
        "id": "9Hp7ks4gzUww",
        "outputId": "9bcef6cf-3692-4861-ba63-46a1ef70dc1d"
      },
      "outputs": [
        {
          "output_type": "stream",
          "name": "stdout",
          "text": [
            "Ile filmów znajduje się w zbiorze ?\n"
          ]
        },
        {
          "output_type": "execute_result",
          "data": {
            "text/plain": [
              "9742"
            ]
          },
          "metadata": {},
          "execution_count": 75
        }
      ],
      "source": [
        "# Zadanie 2\n",
        "# Informacje o ilu filmach znajduja sie w dostarczonym zbiorze?\n",
        "\n",
        "print('Ile filmów znajduje się w zbiorze ?')\n",
        "movies.distinct().count()"
      ],
      "id": "9Hp7ks4gzUww"
    },
    {
      "cell_type": "code",
      "execution_count": 76,
      "metadata": {
        "colab": {
          "base_uri": "https://localhost:8080/"
        },
        "id": "e9FdYqWy0RuE",
        "outputId": "41d6ed84-9ab1-475f-a523-3bd73ced457b"
      },
      "outputs": [
        {
          "output_type": "stream",
          "name": "stdout",
          "text": [
            "Oceny ilu użytkowników znajduje się w zbiorze ?\n"
          ]
        },
        {
          "output_type": "execute_result",
          "data": {
            "text/plain": [
              "610"
            ]
          },
          "metadata": {},
          "execution_count": 76
        }
      ],
      "source": [
        "# Zadanie 3\n",
        "# Oceny ilu uzytkownikow znajduja sie w zbiorze?\n",
        "\n",
        "print('Oceny ilu użytkowników znajduje się w zbiorze ?')\n",
        "ratings.select(ratings.userId).distinct().count()"
      ],
      "id": "e9FdYqWy0RuE"
    },
    {
      "cell_type": "code",
      "execution_count": 77,
      "metadata": {
        "colab": {
          "base_uri": "https://localhost:8080/"
        },
        "id": "8I_YsAII1BUl",
        "outputId": "b7d151b0-c417-4d2b-d366-57df6c581432"
      },
      "outputs": [
        {
          "output_type": "stream",
          "name": "stdout",
          "text": [
            "Braki danych dla links.csv\n",
            "+-------+------+------+\n",
            "|movieId|imdbId|tmdbId|\n",
            "+-------+------+------+\n",
            "+-------+------+------+\n",
            "\n",
            "+-------+------+------+\n",
            "|movieId|imdbId|tmdbId|\n",
            "+-------+------+------+\n",
            "+-------+------+------+\n",
            "\n",
            "+-------+-------+------+\n",
            "|movieId| imdbId|tmdbId|\n",
            "+-------+-------+------+\n",
            "|    791|0113610|  null|\n",
            "|   1107|0102336|  null|\n",
            "|   2851|0081454|  null|\n",
            "|   4051|0056600|  null|\n",
            "|  26587|0092337|  null|\n",
            "|  32600|0377059|  null|\n",
            "|  40697|0105946|  null|\n",
            "|  79299|0874957|  null|\n",
            "+-------+-------+------+\n",
            "\n",
            "Braki danych w kolumnie tmdbId\n",
            "Braki danych dla movies.csv\n",
            "+-------+-----+------+\n",
            "|movieId|title|genres|\n",
            "+-------+-----+------+\n",
            "+-------+-----+------+\n",
            "\n",
            "+-------+-----+------+\n",
            "|movieId|title|genres|\n",
            "+-------+-----+------+\n",
            "+-------+-----+------+\n",
            "\n",
            "+-------+-----+------+\n",
            "|movieId|title|genres|\n",
            "+-------+-----+------+\n",
            "+-------+-----+------+\n",
            "\n",
            "Braki danych dla ratings.csv\n",
            "+------+-------+------+---------+\n",
            "|userId|movieId|rating|timestamp|\n",
            "+------+-------+------+---------+\n",
            "+------+-------+------+---------+\n",
            "\n",
            "+------+-------+------+---------+\n",
            "|userId|movieId|rating|timestamp|\n",
            "+------+-------+------+---------+\n",
            "+------+-------+------+---------+\n",
            "\n",
            "+------+-------+------+---------+\n",
            "|userId|movieId|rating|timestamp|\n",
            "+------+-------+------+---------+\n",
            "+------+-------+------+---------+\n",
            "\n",
            "+------+-------+------+---------+\n",
            "|userId|movieId|rating|timestamp|\n",
            "+------+-------+------+---------+\n",
            "+------+-------+------+---------+\n",
            "\n",
            "Braki danych dla tags.csv\n",
            "+------+-------+---+---------+\n",
            "|userId|movieId|tag|timestamp|\n",
            "+------+-------+---+---------+\n",
            "+------+-------+---+---------+\n",
            "\n",
            "+------+-------+---+---------+\n",
            "|userId|movieId|tag|timestamp|\n",
            "+------+-------+---+---------+\n",
            "+------+-------+---+---------+\n",
            "\n",
            "+------+-------+---+---------+\n",
            "|userId|movieId|tag|timestamp|\n",
            "+------+-------+---+---------+\n",
            "+------+-------+---+---------+\n",
            "\n",
            "+------+-------+---+---------+\n",
            "|userId|movieId|tag|timestamp|\n",
            "+------+-------+---+---------+\n",
            "+------+-------+---+---------+\n",
            "\n"
          ]
        }
      ],
      "source": [
        "# Zadanie 4\n",
        "# Czy w zbiorze znajduja sie braki danych?\n",
        "\n",
        "print(\"Braki danych dla links.csv\")\n",
        "links.filter(links.movieId.isNull()).show()\n",
        "links.filter(links.imdbId.isNull()).show()\n",
        "links.filter(links.tmdbId.isNull()).show()\n",
        "print(\"Braki danych w kolumnie tmdbId\")\n",
        "\n",
        "print(\"Braki danych dla movies.csv\")\n",
        "movies.filter(movies.movieId.isNull()).show()\n",
        "movies.filter(movies.title.isNull()).show()\n",
        "movies.filter(movies.genres.isNull()).show()\n",
        "\n",
        "print(\"Braki danych dla ratings.csv\")\n",
        "ratings.filter(ratings.userId.isNull()).show()\n",
        "ratings.filter(ratings.movieId.isNull()).show()\n",
        "ratings.filter(ratings.rating.isNull()).show()\n",
        "ratings.filter(ratings.timestamp.isNull()).show()\n",
        "\n",
        "print(\"Braki danych dla tags.csv\")\n",
        "tags.filter(tags.userId.isNull()).show()\n",
        "tags.filter(tags.movieId.isNull()).show()\n",
        "tags.filter(tags.tag.isNull()).show()\n",
        "tags.filter(tags.timestamp.isNull()).show()"
      ],
      "id": "8I_YsAII1BUl"
    },
    {
      "cell_type": "code",
      "execution_count": 78,
      "metadata": {
        "colab": {
          "base_uri": "https://localhost:8080/"
        },
        "id": "QI5-jqmZ2qWM",
        "outputId": "a7f0f9a6-6208-4356-fd4e-abc3cc642c93"
      },
      "outputs": [
        {
          "output_type": "stream",
          "name": "stdout",
          "text": [
            "Jakie filmy nie mają ocen ?\n",
            "+--------------------+------+\n",
            "|               title|tmdbId|\n",
            "+--------------------+------+\n",
            "|Last Klezmer: Leo...|  null|\n",
            "|        Loser (1991)|  null|\n",
            "|     Saturn 3 (1980)|  null|\n",
            "|Horrors of Spider...|  null|\n",
            "|Decalogue, The (D...|  null|\n",
            "|         Eros (2004)|  null|\n",
            "|           Babylon 5|  null|\n",
            "|No. 1 Ladies' Det...|  null|\n",
            "+--------------------+------+\n",
            "\n",
            "Ile filmów nie ma ocen ?\n"
          ]
        },
        {
          "output_type": "execute_result",
          "data": {
            "text/plain": [
              "8"
            ]
          },
          "metadata": {},
          "execution_count": 78
        }
      ],
      "source": [
        "# Zadanie 5\n",
        "# Ile filmow nie ma ocen? Ktore filmy nie maja ocen?\n",
        "\n",
        "join_movies_task5 = links.join(other=movies, on='movieId', how='inner')\n",
        "print('Jakie filmy nie mają ocen ?')\n",
        "join_movies_task5.select('title', 'tmdbId').filter(join_movies_task5.tmdbId.isNull()).show()\n",
        "print('Ile filmów nie ma ocen ?')\n",
        "join_movies_task5.select('title', 'tmdbId').filter(join_movies_task5.tmdbId.isNull()).count()"
      ],
      "id": "QI5-jqmZ2qWM"
    },
    {
      "cell_type": "code",
      "execution_count": 79,
      "metadata": {
        "colab": {
          "base_uri": "https://localhost:8080/"
        },
        "id": "nG1N-0di4E3a",
        "outputId": "40fb6e5b-502c-413e-8941-6a657f60279b"
      },
      "outputs": [
        {
          "output_type": "stream",
          "name": "stdout",
          "text": [
            "Najwyższa średnia danego filmu dla ocen większej niż 150\n",
            "+--------------------+------------------+-----------+\n",
            "|               title|           srednia|liczba_ocen|\n",
            "+--------------------+------------------+-----------+\n",
            "|Shawshank Redempt...| 4.429022082018927|        317|\n",
            "|Godfather, The (1...|         4.2890625|        192|\n",
            "|   Fight Club (1999)| 4.272935779816514|        218|\n",
            "|Usual Suspects, T...| 4.237745098039215|        204|\n",
            "|Star Wars: Episod...| 4.231075697211155|        251|\n",
            "|Schindler's List ...|             4.225|        220|\n",
            "|Star Wars: Episod...|4.2156398104265405|        211|\n",
            "|Raiders of the Lo...|            4.2075|        200|\n",
            "| Pulp Fiction (1994)| 4.197068403908795|        307|\n",
            "|  Matrix, The (1999)| 4.192446043165468|        278|\n",
            "| Forrest Gump (1994)| 4.164133738601824|        329|\n",
            "|Silence of the La...| 4.161290322580645|        279|\n",
            "|Saving Private Ry...|4.1462765957446805|        188|\n",
            "|Star Wars: Episod...| 4.137755102040816|        196|\n",
            "|      Memento (2000)| 4.122641509433962|        159|\n",
            "|Lord of the Rings...| 4.118918918918919|        185|\n",
            "|        Fargo (1996)| 4.116022099447513|        181|\n",
            "|Lord of the Rings...| 4.106060606060606|        198|\n",
            "|American Beauty (...| 4.056372549019608|        204|\n",
            "|Back to the Futur...| 4.038011695906433|        171|\n",
            "+--------------------+------------------+-----------+\n",
            "only showing top 20 rows\n",
            "\n"
          ]
        }
      ],
      "source": [
        "# Zadanie 6\n",
        "# Ktory film ma najlepsza srednia ocen? Jesli jest takich wiele podaj ten z najwieksza liczba glosow.\n",
        "\n",
        "movies_ratings_task6 = movies.join(other=ratings, on='movieId', how='inner')\n",
        "\n",
        "movie_ratings = movies_ratings_task6.\\\n",
        "groupBy('title').\\\n",
        "agg(f.mean('rating').alias('srednia'),\\\n",
        "    f.count('userId').alias('liczba_ocen')).\\\n",
        "orderBy('liczba_ocen')\n",
        "\n",
        "print('Najwyższa średnia danego filmu dla ocen większej niż 150')\n",
        "movie_ratings.\\\n",
        "select('title', 'srednia', 'liczba_ocen').\\\n",
        "where(movie_ratings.liczba_ocen > 150).\\\n",
        "sort(movie_ratings.srednia.desc()).show()"
      ],
      "id": "nG1N-0di4E3a"
    },
    {
      "cell_type": "code",
      "execution_count": 80,
      "metadata": {
        "colab": {
          "base_uri": "https://localhost:8080/"
        },
        "id": "xHs0Kb4FAHKb",
        "outputId": "295e500c-6e22-42af-a05e-8f6bc1c75c89"
      },
      "outputs": [
        {
          "output_type": "stream",
          "name": "stdout",
          "text": [
            "Liczba wszystkich filmów :9742\n",
            "Liczba filmów z max oceną : 2954\n",
            "Procent maksymalnych ocen względem wszystkich ocen :30.322315746253338 %\n"
          ]
        }
      ],
      "source": [
        "# Zadanie 7\n",
        "# Jaki procent filmow ma tylko maksymalne oceny?\n",
        "\n",
        "numberOfFilms = movies.select('movieId').count()\n",
        "print('Liczba wszystkich filmów :' + str(numberOfFilms))\n",
        "\n",
        "\n",
        "join_movie_rating = movies.join(other = ratings, on = 'movieId', how = 'inner')\n",
        "numbers_movie_max_rating = join_movie_rating.\\\n",
        "select('movieId').\\\n",
        "where(ratings.rating == 5.0).distinct().count()\n",
        "print('Liczba filmów z max oceną : ' + str(numbers_movie_max_rating))\n",
        "\n",
        "\n",
        "procent = (numbers_movie_max_rating / numberOfFilms)*100\n",
        "print('Procent maksymalnych ocen względem wszystkich ocen :' + str(procent) +' %')"
      ],
      "id": "xHs0Kb4FAHKb"
    },
    {
      "cell_type": "code",
      "execution_count": 81,
      "metadata": {
        "colab": {
          "base_uri": "https://localhost:8080/"
        },
        "id": "x19gAxchLoG1",
        "outputId": "2b843b9e-1c43-4be6-b231-157d3ecc7637"
      },
      "outputs": [
        {
          "output_type": "stream",
          "name": "stdout",
          "text": [
            "--------- Wynik ---------\n",
            "+--------------------+------+---------+\n",
            "|               title|rating|Suma_ocen|\n",
            "+--------------------+------+---------+\n",
            "|Shawshank Redempt...|   5.0|      153|\n",
            "| Pulp Fiction (1994)|   5.0|      123|\n",
            "| Forrest Gump (1994)|   5.0|      116|\n",
            "|  Matrix, The (1999)|   5.0|      109|\n",
            "|Star Wars: Episod...|   5.0|      104|\n",
            "|Silence of the La...|   5.0|       92|\n",
            "|Schindler's List ...|   5.0|       92|\n",
            "|Godfather, The (1...|   5.0|       88|\n",
            "|   Fight Club (1999)|   5.0|       81|\n",
            "|Star Wars: Episod...|   5.0|       80|\n",
            "|   Braveheart (1995)|   5.0|       80|\n",
            "|Usual Suspects, T...|   5.0|       71|\n",
            "|Raiders of the Lo...|   5.0|       69|\n",
            "|American Beauty (...|   5.0|       65|\n",
            "|Star Wars: Episod...|   5.0|       65|\n",
            "|Terminator 2: Jud...|   5.0|       64|\n",
            "|Lord of the Rings...|   5.0|       62|\n",
            "|Saving Private Ry...|   5.0|       61|\n",
            "|        Fargo (1996)|   5.0|       57|\n",
            "|Princess Bride, T...|   5.0|       55|\n",
            "+--------------------+------+---------+\n",
            "only showing top 20 rows\n",
            "\n"
          ]
        }
      ],
      "source": [
        "# Zadanie 8\n",
        "# Ktory film ma najwyzsza minimalna ocene? Jesli jest takich wiele podaj ten z najwieksza liczba glosow.\n",
        "\n",
        "sort_mark = ratings.\\\n",
        "groupBy('movieId', 'rating').\\\n",
        "agg(f.count('rating').alias('Suma_ocen'))\n",
        "\n",
        "join_movie_rating2 = movies.join(other = sort_mark, on = 'movieId', how = 'inner')\n",
        "\n",
        "print('--------- Wynik ---------')\n",
        "\n",
        "film_rating_min = join_movie_rating2.\\\n",
        "select('title', 'rating', 'Suma_ocen').\\\n",
        "orderBy(sort_mark.rating.desc(),\\\n",
        "        sort_mark.Suma_ocen.desc()).show()"
      ],
      "id": "x19gAxchLoG1"
    },
    {
      "cell_type": "code",
      "execution_count": 82,
      "metadata": {
        "colab": {
          "base_uri": "https://localhost:8080/"
        },
        "id": "9kfJjpnThwCP",
        "outputId": "ed30ffa4-c86f-41d3-ee7e-d9581cb4ff85"
      },
      "outputs": [
        {
          "output_type": "stream",
          "name": "stdout",
          "text": [
            "--------- Rozkład ocen ---------\n",
            "+------+-----+\n",
            "|rating|count|\n",
            "+------+-----+\n",
            "|   0.5| 1370|\n",
            "|   1.0| 2811|\n",
            "|   1.5| 1791|\n",
            "|   2.0| 7551|\n",
            "|   2.5| 5550|\n",
            "|   3.0|20047|\n",
            "|   3.5|13136|\n",
            "|   4.0|26818|\n",
            "|   4.5| 8551|\n",
            "|   5.0|13211|\n",
            "+------+-----+\n",
            "\n"
          ]
        }
      ],
      "source": [
        "# Zadanie 9\n",
        "# Jaki jest rozklad ocen?\n",
        "\n",
        "import matplotlib.pyplot as plt\n",
        "\n",
        "print('--------- Rozkład ocen ---------')\n",
        "x = ratings.groupBy('rating').count().orderBy(ratings.rating).show()"
      ],
      "id": "9kfJjpnThwCP"
    },
    {
      "cell_type": "code",
      "source": [
        "# Zadanie 10\n",
        "# Ile jest filmow zaklasyfikowanych jako dokumentalne 'documentary'?\n",
        "\n",
        "# movies.show()\n",
        "\n",
        "how_many_documentary = movies.\\\n",
        "select('title', 'genres').\\\n",
        "where(f.col('genres').like('%Documentary%')).\\\n",
        "count()\n",
        "\n",
        "print(f'Filmów zaklasyfikowanych jako Documentary w danej bazie jest : ' + str(how_many_documentary))"
      ],
      "metadata": {
        "colab": {
          "base_uri": "https://localhost:8080/"
        },
        "id": "uvxVOtMu8vVY",
        "outputId": "addc35d5-e2d3-470e-a9ea-1287a6bce454"
      },
      "id": "uvxVOtMu8vVY",
      "execution_count": 83,
      "outputs": [
        {
          "output_type": "stream",
          "name": "stdout",
          "text": [
            "Filmów zaklasyfikowanych jako Documentary w danej bazie jest : 440\n"
          ]
        }
      ]
    },
    {
      "cell_type": "code",
      "source": [
        "# Zadanie 11\n",
        "# Ktory z filmow dokumentalnych z conajmniej 10 glosami ma najwysza srednia ocene?\n",
        "\n",
        "count_votes = ratings.\\\n",
        "groupBy('movieId').\\\n",
        "agg(f.count('movieId').alias('Suma_ocen'))\n",
        "\n",
        "votes_more_10 = count_votes.\\\n",
        "select('movieId','Suma_ocen').\\\n",
        "where(count_votes.Suma_ocen > 9)\n",
        "\n",
        "join_movie_votes = ratings.join(other = votes_more_10, on = 'movieId', how = 'inner')\n",
        "\n",
        "mean_film_rating = join_movie_votes.\\\n",
        "groupBy('movieId').\\\n",
        "agg(f.mean('rating').alias('Srednia'))\n",
        "\n",
        "join_movie_final = movies.join(other = mean_film_rating, on = 'movieId', how = 'inner')\n",
        "\n",
        "print('Najlepszy film pod względem średniej oceny gdzie liczba głosów wynosiła min 10')\n",
        "\n",
        "title_best_mean = join_movie_final.\\\n",
        "select('title', 'Srednia').\\\n",
        "orderBy(mean_film_rating.Srednia.desc()).show()\n"
      ],
      "metadata": {
        "colab": {
          "base_uri": "https://localhost:8080/"
        },
        "id": "kPXoi8MM_y9-",
        "outputId": "421384f0-bedb-44df-b43f-a376ac922f3f"
      },
      "id": "kPXoi8MM_y9-",
      "execution_count": 84,
      "outputs": [
        {
          "output_type": "stream",
          "name": "stdout",
          "text": [
            "Najlepszy film pod względem średniej oceny gdzie liczba głosów wynosiła min 10\n",
            "+--------------------+------------------+\n",
            "|               title|           Srednia|\n",
            "+--------------------+------------------+\n",
            "|Secrets & Lies (1...| 4.590909090909091|\n",
            "|Guess Who's Comin...| 4.545454545454546|\n",
            "|Paths of Glory (1...| 4.541666666666667|\n",
            "|Streetcar Named D...|             4.475|\n",
            "|Celebration, The ...| 4.458333333333333|\n",
            "|          Ran (1985)| 4.433333333333334|\n",
            "|Shawshank Redempt...| 4.429022082018927|\n",
            "|His Girl Friday (...| 4.392857142857143|\n",
            "|All Quiet on the ...|              4.35|\n",
            "| Hustler, The (1961)| 4.333333333333333|\n",
            "|Sunset Blvd. (a.k...| 4.333333333333333|\n",
            "|Double Indemnity ...| 4.323529411764706|\n",
            "|It Happened One N...| 4.321428571428571|\n",
            "|Philadelphia Stor...| 4.310344827586207|\n",
            "|Fog of War: Eleve...|4.3076923076923075|\n",
            "|Living in Oblivio...|4.3076923076923075|\n",
            "|Once Upon a Time ...| 4.305555555555555|\n",
            "|In the Name of th...|               4.3|\n",
            "|Elite Squad (Trop...|               4.3|\n",
            "|Louis C.K.: Live ...|               4.3|\n",
            "+--------------------+------------------+\n",
            "only showing top 20 rows\n",
            "\n"
          ]
        }
      ]
    },
    {
      "cell_type": "code",
      "source": [
        "# Zadanie 13\n",
        "# Ile srednio kategorii przypisanych jest do 1 filmu? Ktory film ma najwiecej kategorii (+co to za kategorie)?\n",
        "\n",
        "df_new = movies.withColumn('category', f.split('genres', '\\|')) \\\n",
        "           .withColumn('cnt', f.expr('size(filter(category, x -> x in (\"Adventure\",\"Comedy\",\"Drama\",\"Crime\",\"Horror\",\"Animation\", \"Children\", \"Comedy\", \"Fantasy\", \"Romance\", \"Action\", \"Thriller\", \"Mystery\", \"Sci-Fi\", \"War\", \"Musical\", \"Documentary\", \"Musical\", \"Western\", \"Film-Noir\")))'))\n",
        "\n",
        "\n",
        "all_films = df_new.count()\n",
        "sum_categories = df_new.agg(f.sum(\"cnt\")).collect()[0][0]\n",
        "mean_film_cat = sum_categories/all_films\n",
        "print(f'Średnia liczba kategorii na film : ' + str(mean_film_cat))\n",
        "\n",
        "print(f'===========================================================')\n",
        "\n",
        "max_cat = df_new.orderBy(df_new.cnt.desc())\n",
        "\n",
        "print(f'Film z największą liczbą kategorii')\n",
        "max_cat.show(truncate=False)\n",
        "\n",
        "# Jakie kategorie ?\n",
        "# my_list = movies.select(f.collect_list('genres')).first()[0]\n",
        "# my_list\n"
      ],
      "metadata": {
        "colab": {
          "base_uri": "https://localhost:8080/"
        },
        "id": "6CD5KNSmDop2",
        "outputId": "37fce0f9-25a0-47b4-8789-227c197547d3"
      },
      "id": "6CD5KNSmDop2",
      "execution_count": 85,
      "outputs": [
        {
          "output_type": "stream",
          "name": "stdout",
          "text": [
            "Średnia liczba kategorii na film : 2.2471771710121127\n",
            "===========================================================\n",
            "Film z największą liczbą kategorii\n",
            "+-------+-------------------------------------------------------------------------------+-----------------------------------------------------------------------------+----------------------------------------------------------------------------------------+---+\n",
            "|movieId|title                                                                          |genres                                                                       |category                                                                                |cnt|\n",
            "+-------+-------------------------------------------------------------------------------+-----------------------------------------------------------------------------+----------------------------------------------------------------------------------------+---+\n",
            "|81132  |Rubber (2010)                                                                  |Action|Adventure|Comedy|Crime|Drama|Film-Noir|Horror|Mystery|Thriller|Western|[Action, Adventure, Comedy, Crime, Drama, Film-Noir, Horror, Mystery, Thriller, Western]|10 |\n",
            "|26701  |Patlabor: The Movie (Kidô keisatsu patorebâ: The Movie) (1989)                 |Action|Animation|Crime|Drama|Film-Noir|Mystery|Sci-Fi|Thriller               |[Action, Animation, Crime, Drama, Film-Noir, Mystery, Sci-Fi, Thriller]                 |8  |\n",
            "|1907   |Mulan (1998)                                                                   |Adventure|Animation|Children|Comedy|Drama|Musical|Romance                    |[Adventure, Animation, Children, Comedy, Drama, Musical, Romance]                       |7  |\n",
            "|4719   |Osmosis Jones (2001)                                                           |Action|Animation|Comedy|Crime|Drama|Romance|Thriller                         |[Action, Animation, Comedy, Crime, Drama, Romance, Thriller]                            |7  |\n",
            "|6902   |Interstate 60 (2002)                                                           |Adventure|Comedy|Drama|Fantasy|Mystery|Sci-Fi|Thriller                       |[Adventure, Comedy, Drama, Fantasy, Mystery, Sci-Fi, Thriller]                          |7  |\n",
            "|43932  |Pulse (2006)                                                                   |Action|Drama|Fantasy|Horror|Mystery|Sci-Fi|Thriller                          |[Action, Drama, Fantasy, Horror, Mystery, Sci-Fi, Thriller]                             |7  |\n",
            "|52462  |Aqua Teen Hunger Force Colon Movie Film for Theaters (2007)                    |Action|Adventure|Animation|Comedy|Fantasy|Mystery|Sci-Fi                     |[Action, Adventure, Animation, Comedy, Fantasy, Mystery, Sci-Fi]                        |7  |\n",
            "|56152  |Enchanted (2007)                                                               |Adventure|Animation|Children|Comedy|Fantasy|Musical|Romance                  |[Adventure, Animation, Children, Comedy, Fantasy, Musical, Romance]                     |7  |\n",
            "|71999  |Aelita: The Queen of Mars (Aelita) (1924)                                      |Action|Adventure|Drama|Fantasy|Romance|Sci-Fi|Thriller                       |[Action, Adventure, Drama, Fantasy, Romance, Sci-Fi, Thriller]                          |7  |\n",
            "|2987   |Who Framed Roger Rabbit? (1988)                                                |Adventure|Animation|Children|Comedy|Crime|Fantasy|Mystery                    |[Adventure, Animation, Children, Comedy, Crime, Fantasy, Mystery]                       |7  |\n",
            "|198    |Strange Days (1995)                                                            |Action|Crime|Drama|Mystery|Sci-Fi|Thriller                                   |[Action, Crime, Drama, Mystery, Sci-Fi, Thriller]                                       |6  |\n",
            "|26590  |G.I. Joe: The Movie (1987)                                                     |Action|Adventure|Animation|Children|Fantasy|Sci-Fi                           |[Action, Adventure, Animation, Children, Fantasy, Sci-Fi]                               |6  |\n",
            "|673    |Space Jam (1996)                                                               |Adventure|Animation|Children|Comedy|Fantasy|Sci-Fi                           |[Adventure, Animation, Children, Comedy, Fantasy, Sci-Fi]                               |6  |\n",
            "|7235   |Ichi the Killer (Koroshiya 1) (2001)                                           |Action|Comedy|Crime|Drama|Horror|Thriller                                    |[Action, Comedy, Crime, Drama, Horror, Thriller]                                        |6  |\n",
            "|2617   |Mummy, The (1999)                                                              |Action|Adventure|Comedy|Fantasy|Horror|Thriller                              |[Action, Adventure, Comedy, Fantasy, Horror, Thriller]                                  |6  |\n",
            "|2092   |Return of Jafar, The (1994)                                                    |Adventure|Animation|Children|Fantasy|Musical|Romance                         |[Adventure, Animation, Children, Fantasy, Musical, Romance]                             |6  |\n",
            "|6350   |Laputa: Castle in the Sky (Tenkû no shiro Rapyuta) (1986)                      |Action|Adventure|Animation|Children|Fantasy|Sci-Fi                           |[Action, Adventure, Animation, Children, Fantasy, Sci-Fi]                               |6  |\n",
            "|1064   |Aladdin and the King of Thieves (1996)                                         |Animation|Children|Comedy|Fantasy|Musical|Romance                            |[Animation, Children, Comedy, Fantasy, Musical, Romance]                                |6  |\n",
            "|8253   |Lupin III: The Castle Of Cagliostro (Rupan sansei: Kariosutoro no shiro) (1979)|Action|Adventure|Animation|Comedy|Crime|Mystery                              |[Action, Adventure, Animation, Comedy, Crime, Mystery]                                  |6  |\n",
            "|631    |All Dogs Go to Heaven 2 (1996)                                                 |Adventure|Animation|Children|Fantasy|Musical|Romance                         |[Adventure, Animation, Children, Fantasy, Musical, Romance]                             |6  |\n",
            "+-------+-------------------------------------------------------------------------------+-----------------------------------------------------------------------------+----------------------------------------------------------------------------------------+---+\n",
            "only showing top 20 rows\n",
            "\n"
          ]
        }
      ]
    }
  ],
  "metadata": {
    "colab": {
      "provenance": []
    },
    "kernelspec": {
      "display_name": "Python 3 (ipykernel)",
      "language": "python",
      "name": "python3"
    },
    "language_info": {
      "codemirror_mode": {
        "name": "ipython",
        "version": 3
      },
      "file_extension": ".py",
      "mimetype": "text/x-python",
      "name": "python",
      "nbconvert_exporter": "python",
      "pygments_lexer": "ipython3",
      "version": "3.9.12"
    }
  },
  "nbformat": 4,
  "nbformat_minor": 5
}